{
 "cells": [
  {
   "cell_type": "code",
   "execution_count": 26,
   "metadata": {
    "collapsed": false
   },
   "outputs": [],
   "source": [
    "import yaml"
   ]
  },
  {
   "cell_type": "code",
   "execution_count": 27,
   "metadata": {
    "collapsed": false
   },
   "outputs": [],
   "source": [
    "revision = yaml.load(open('sample_table.yaml','r'))"
   ]
  },
  {
   "cell_type": "code",
   "execution_count": 33,
   "metadata": {
    "collapsed": false
   },
   "outputs": [
    {
     "name": "stdout",
     "output_type": "stream",
     "text": [
      "This is a sample revision comment.\n",
      "\n",
      "This is a sample table comment.\n",
      "{'sample_integer_column': {'comment': 'This is a random comment for sample column 1', 'dtype': 'sa.Integer'}, 'sample_string_column': {'comment': '\"This is a random comment for sample column 2 \\nthe pipe allows us to include line breaks in \\ncomments in order to break across many lines.\"\\n', 'dtype': 'sa.String'}}\n",
      "\n",
      "This is another sample table comment.\n",
      "{'sample_integer_column': {'comment': 'This is a random comment for sample column 1', 'dtype': 'sa.Integer'}}\n",
      "\n"
     ]
    }
   ],
   "source": [
    "\n",
    "print(revision['revision_comment'])\n",
    "print()\n",
    "\n",
    "\n",
    "for table_name, table in revision['tables'].items():\n",
    "    print(table['comment'])\n",
    "    print(table['columns'])\n",
    "    print()\n",
    "    "
   ]
  },
  {
   "cell_type": "code",
   "execution_count": null,
   "metadata": {
    "collapsed": true
   },
   "outputs": [],
   "source": [
    "from string import Template\n",
    "revision_template = '''$column_variable_name = CommentedColumn(column_name='$column_name',\n",
    "                column_type=$column_data_type,\n",
    "                comment='$column_comment')\n",
    "'''\n",
    "\n",
    "\n",
    "column_template = '''$column_variable_name = CommentedColumn(column_name='$column_name',\n",
    "                column_type=$column_data_type,\n",
    "                comment='$column_comment')\n",
    "'''"
   ]
  },
  {
   "cell_type": "code",
   "execution_count": null,
   "metadata": {
    "collapsed": true
   },
   "outputs": [],
   "source": []
  }
 ],
 "metadata": {
  "anaconda-cloud": {},
  "kernelspec": {
   "display_name": "Python [conda root]",
   "language": "python",
   "name": "conda-root-py"
  },
  "language_info": {
   "codemirror_mode": {
    "name": "ipython",
    "version": 3
   },
   "file_extension": ".py",
   "mimetype": "text/x-python",
   "name": "python",
   "nbconvert_exporter": "python",
   "pygments_lexer": "ipython3",
   "version": "3.5.2"
  }
 },
 "nbformat": 4,
 "nbformat_minor": 1
}
